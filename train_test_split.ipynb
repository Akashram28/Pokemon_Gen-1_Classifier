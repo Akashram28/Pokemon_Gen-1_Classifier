{
 "cells": [
  {
   "cell_type": "code",
   "execution_count": 2,
   "metadata": {},
   "outputs": [],
   "source": [
    "import pandas as pd\n",
    "from sklearn.model_selection import train_test_split\n",
    "import os"
   ]
  },
  {
   "cell_type": "code",
   "execution_count": 4,
   "metadata": {},
   "outputs": [],
   "source": [
    "root_dir = \"Images/Compressed_Images/\"\n",
    "train_dir = \"Images/train/\"\n",
    "test_dir = \"Images/test/\""
   ]
  },
  {
   "cell_type": "code",
   "execution_count": 5,
   "metadata": {},
   "outputs": [],
   "source": [
    "for pokemon in os.listdir(root_dir):\n",
    "    os.mkdir(os.path.join(train_dir,pokemon))\n",
    "    os.mkdir(os.path.join(test_dir,pokemon))"
   ]
  },
  {
   "cell_type": "code",
   "execution_count": 12,
   "metadata": {},
   "outputs": [],
   "source": [
    "import shutil\n",
    "\n",
    "for pokemon in os.listdir(root_dir):\n",
    "    names = list(os.listdir(os.path.join(root_dir,pokemon)))\n",
    "    names_train, names_test= train_test_split(names,test_size=0.2)\n",
    "    for i in names_train:\n",
    "        shutil.move(os.path.join(root_dir,pokemon,i),os.path.join(train_dir,pokemon,i))\n",
    "    for i in names_test:\n",
    "        shutil.move(os.path.join(root_dir,pokemon,i),os.path.join(test_dir,pokemon,i))"
   ]
  },
  {
   "cell_type": "code",
   "execution_count": 14,
   "metadata": {},
   "outputs": [],
   "source": [
    "for i in os.listdir(train_dir):\n",
    "    x = list(os.listdir(os.path.join(train_dir,i)))\n",
    "    if len(x) == 0:\n",
    "        print(i)"
   ]
  },
  {
   "cell_type": "code",
   "execution_count": 15,
   "metadata": {},
   "outputs": [],
   "source": [
    "for i in os.listdir(test_dir):\n",
    "    x = list(os.listdir(os.path.join(test_dir,i)))\n",
    "    if len(x) == 0:\n",
    "        print(i)"
   ]
  }
 ],
 "metadata": {
  "kernelspec": {
   "display_name": "Python 3",
   "language": "python",
   "name": "python3"
  },
  "language_info": {
   "codemirror_mode": {
    "name": "ipython",
    "version": 3
   },
   "file_extension": ".py",
   "mimetype": "text/x-python",
   "name": "python",
   "nbconvert_exporter": "python",
   "pygments_lexer": "ipython3",
   "version": "3.10.2"
  },
  "orig_nbformat": 4
 },
 "nbformat": 4,
 "nbformat_minor": 2
}
