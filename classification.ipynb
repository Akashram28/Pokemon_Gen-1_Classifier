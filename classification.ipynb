{
 "cells": [
  {
   "cell_type": "code",
   "execution_count": 15,
   "metadata": {},
   "outputs": [],
   "source": [
    "import tensorflow as tf\n",
    "from tensorflow.keras import layers,models\n",
    "import matplotlib.pyplot as plt\n",
    "%matplotlib inline\n",
    "import numpy as np\n",
    "import os\n",
    "import cv2\n",
    "from sklearn.model_selection import train_test_split"
   ]
  },
  {
   "cell_type": "code",
   "execution_count": 16,
   "metadata": {},
   "outputs": [],
   "source": [
    "COMPRESSED_PATH = \"/Users/Akash/Desktop/My Projects/Pokedex/Images/Compressed_Images\"\n",
    "TRAIN_PATH = \"/Users/Akash/Desktop/My Projects/Pokedex/Images/train\"\n",
    "TEST_PATH = \"/Users/Akash/Desktop/My Projects/Pokedex/Images/test\""
   ]
  },
  {
   "cell_type": "code",
   "execution_count": 17,
   "metadata": {},
   "outputs": [],
   "source": [
    "x_train = []\n",
    "y_train = []\n",
    "x_test = []\n",
    "y_test = []\n",
    "prototype_pokemon = [\"Pikachu\",\"Charmander\",\"Squirtle\",\"Bulbasaur\"]\n",
    "for pokemon in prototype_pokemon:\n",
    "    pokemon_path = os.path.join(TRAIN_PATH,pokemon)\n",
    "    for image_name in os.listdir(pokemon_path):\n",
    "        x_train.append(np.array(cv2.imread(os.path.join(pokemon_path,image_name))))\n",
    "        y_train.append(pokemon)\n",
    "x_train = np.array(x_train)\n",
    "\n",
    "for pokemon in prototype_pokemon:\n",
    "    pokemon_path = os.path.join(TEST_PATH,pokemon)\n",
    "    for image_name in os.listdir(pokemon_path):\n",
    "        x_test.append(np.array(cv2.imread(os.path.join(pokemon_path,image_name))))\n",
    "        y_test.append(pokemon)\n",
    "x_test = np.array(x_test)\n"
   ]
  },
  {
   "cell_type": "code",
   "execution_count": 18,
   "metadata": {},
   "outputs": [
    {
     "data": {
      "text/plain": [
       "(1478, 80, 80, 3)"
      ]
     },
     "execution_count": 18,
     "metadata": {},
     "output_type": "execute_result"
    }
   ],
   "source": [
    "x_train = np.array(x_train)\n",
    "x_test = np.array(x_test)\n",
    "x_train.shape"
   ]
  },
  {
   "cell_type": "code",
   "execution_count": 19,
   "metadata": {},
   "outputs": [],
   "source": [
    "poke_ids = {\n",
    "    \"Pikachu\" : 1,\n",
    "    \"Charmander\" : 2,\n",
    "    \"Squirtle\" : 3,\n",
    "    \"Bulbasaur\" : 4\n",
    "}\n",
    "\n",
    "for i in range(len(y_train)):\n",
    "    y_train[i] = poke_ids[y_train[i]]\n",
    "\n",
    "y_train = np.array(y_train)\n",
    "\n",
    "for i in range(len(y_test)):\n",
    "    y_test[i] = poke_ids[y_test[i]]\n",
    "\n",
    "y_test = np.array(y_test)"
   ]
  },
  {
   "cell_type": "code",
   "execution_count": null,
   "metadata": {},
   "outputs": [],
   "source": [
    "\n"
   ]
  },
  {
   "cell_type": "code",
   "execution_count": null,
   "metadata": {},
   "outputs": [],
   "source": []
  },
  {
   "cell_type": "code",
   "execution_count": 20,
   "metadata": {},
   "outputs": [],
   "source": [
    "data_augmentation = models.Sequential([\n",
    "    layers.RandomZoom(0.2)\n",
    "])"
   ]
  },
  {
   "cell_type": "code",
   "execution_count": 21,
   "metadata": {},
   "outputs": [],
   "source": [
    "cnn = models.Sequential([\n",
    "    #Preprocessing\n",
    "    data_augmentation,\n",
    "    #CNN layers\n",
    "    layers.Conv2D(filters=10,kernel_size=(3, 3),activation='relu',input_shape=(80,80,3)),\n",
    "    layers.MaxPool2D((2,1)),\n",
    "    \n",
    "    layers.Conv2D(filters=5,kernel_size=(3, 3),activation='relu'),\n",
    "    layers.MaxPool2D((2,1)),\n",
    "\n",
    "    #Dense network\n",
    "    layers.Flatten(),\n",
    "    layers.Dense(20,activation='relu'),\n",
    "    layers.Dense(10,activation='softmax'),\n",
    "])"
   ]
  },
  {
   "cell_type": "code",
   "execution_count": 22,
   "metadata": {},
   "outputs": [],
   "source": [
    "cnn.compile(\n",
    "    optimizer='adam',\n",
    "    loss='sparse_categorical_crossentropy',\n",
    "    metrics=['accuracy']\n",
    ")"
   ]
  },
  {
   "cell_type": "code",
   "execution_count": 23,
   "metadata": {},
   "outputs": [
    {
     "name": "stdout",
     "output_type": "stream",
     "text": [
      "Epoch 1/6\n",
      "47/47 [==============================] - 5s 81ms/step - loss: 5.6503 - accuracy: 0.4100\n",
      "Epoch 2/6\n",
      "47/47 [==============================] - 4s 78ms/step - loss: 1.3034 - accuracy: 0.5805\n",
      "Epoch 3/6\n",
      "47/47 [==============================] - 4s 83ms/step - loss: 1.0525 - accuracy: 0.6773\n",
      "Epoch 4/6\n",
      "47/47 [==============================] - 4s 87ms/step - loss: 0.7684 - accuracy: 0.7456\n",
      "Epoch 5/6\n",
      "47/47 [==============================] - 4s 90ms/step - loss: 0.6759 - accuracy: 0.7842\n",
      "Epoch 6/6\n",
      "47/47 [==============================] - 4s 90ms/step - loss: 0.5930 - accuracy: 0.8085\n"
     ]
    },
    {
     "data": {
      "text/plain": [
       "<keras.src.callbacks.History at 0x1bc8203a6b0>"
      ]
     },
     "execution_count": 23,
     "metadata": {},
     "output_type": "execute_result"
    }
   ],
   "source": [
    "cnn.fit(x_train,y_train,epochs=6)"
   ]
  },
  {
   "cell_type": "code",
   "execution_count": 24,
   "metadata": {},
   "outputs": [
    {
     "name": "stdout",
     "output_type": "stream",
     "text": [
      "12/12 [==============================] - 0s 22ms/step - loss: 1.2728 - accuracy: 0.6973\n"
     ]
    },
    {
     "data": {
      "text/plain": [
       "[1.2728111743927002, 0.6972972750663757]"
      ]
     },
     "execution_count": 24,
     "metadata": {},
     "output_type": "execute_result"
    }
   ],
   "source": [
    "cnn.evaluate(x_test,y_test)"
   ]
  },
  {
   "cell_type": "code",
   "execution_count": 25,
   "metadata": {},
   "outputs": [],
   "source": [
    "cnn.save(\"prototpye_model.keras\")"
   ]
  },
  {
   "cell_type": "code",
   "execution_count": 26,
   "metadata": {},
   "outputs": [],
   "source": [
    "new_model = models.load_model(\"prototpye_model.keras\")"
   ]
  },
  {
   "cell_type": "code",
   "execution_count": 27,
   "metadata": {},
   "outputs": [
    {
     "name": "stdout",
     "output_type": "stream",
     "text": [
      "12/12 [==============================] - 0s 18ms/step - loss: 1.2728 - accuracy: 0.6973\n"
     ]
    },
    {
     "data": {
      "text/plain": [
       "[1.2728111743927002, 0.6972972750663757]"
      ]
     },
     "execution_count": 27,
     "metadata": {},
     "output_type": "execute_result"
    }
   ],
   "source": [
    "new_model.evaluate(x_test,y_test)"
   ]
  },
  {
   "cell_type": "code",
   "execution_count": 28,
   "metadata": {},
   "outputs": [
    {
     "data": {
      "text/plain": [
       "(1478, 80, 80, 3)"
      ]
     },
     "execution_count": 28,
     "metadata": {},
     "output_type": "execute_result"
    }
   ],
   "source": [
    "x_train.shape"
   ]
  }
 ],
 "metadata": {
  "kernelspec": {
   "display_name": "Python 3",
   "language": "python",
   "name": "python3"
  },
  "language_info": {
   "codemirror_mode": {
    "name": "ipython",
    "version": 3
   },
   "file_extension": ".py",
   "mimetype": "text/x-python",
   "name": "python",
   "nbconvert_exporter": "python",
   "pygments_lexer": "ipython3",
   "version": "3.10.2"
  },
  "orig_nbformat": 4
 },
 "nbformat": 4,
 "nbformat_minor": 2
}
